{
 "cells": [
  {
   "cell_type": "code",
   "execution_count": 1,
   "metadata": {},
   "outputs": [
    {
     "name": "stderr",
     "output_type": "stream",
     "text": [
      "DEBUG:urllib3.connectionpool:Starting new HTTPS connection (1): www.nseindia.com:443\n",
      "DEBUG:urllib3.connectionpool:https://www.nseindia.com:443 \"GET /api/historical/fo/derivatives?&expiryDate=24-SEP-2020&instrumentType=FUTIDX&symbol=BANKNIFTY HTTP/1.1\" 200 2177\n",
      "DEBUG:urllib3.connectionpool:Starting new HTTPS connection (1): www.nseindia.com:443\n",
      "DEBUG:urllib3.connectionpool:https://www.nseindia.com:443 \"GET /api/equity-stockIndices?index=NIFTY%20BANK HTTP/1.1\" 200 2837\n"
     ]
    },
    {
     "name": "stdout",
     "output_type": "stream",
     "text": [
      "23030.310400000002\n",
      "21902.0896\n"
     ]
    }
   ],
   "source": [
    "from nsepython import * \n",
    "\n",
    "#Getting All the Necessary Variables\n",
    "\n",
    "historical_data = nsefetch('https://www.nseindia.com/api/historical/fo/derivatives?&expiryDate=24-SEP-2020&instrumentType=FUTIDX&symbol=BANKNIFTY')\n",
    "historical_data = pd.DataFrame(historical_data['data'])\n",
    "previous_day_high = historical_data['FH_TRADE_HIGH_PRICE'].iloc[0]\n",
    "previous_day_low = historical_data['FH_TRADE_LOW_PRICE'].iloc[0]\n",
    "\n",
    "banknifty_info=nsefetch(\"https://www.nseindia.com/api/equity-stockIndices?index=NIFTY%20BANK\")\n",
    "range_high = banknifty_info['data'][0]['dayHigh']\n",
    "range_low = banknifty_info['data'][0]['dayLow']\n",
    "opening_range = range_high-range_low\n",
    "\n",
    "golden_number = (float(previous_day_high)-float(previous_day_low)+opening_range)*.618\n",
    "\n",
    "previous_day_close = banknifty_info['data'][0]['previousClose']\n",
    "buy_above = previous_day_close+golden_number\n",
    "sell_below = previous_day_close-golden_number\n",
    "\n",
    "print(buy_above)\n",
    "print(sell_below)"
   ]
  },
  {
   "cell_type": "code",
   "execution_count": 3,
   "metadata": {},
   "outputs": [
    {
     "data": {
      "text/plain": [
       "'2020-09-13 23:24:36.272675'"
      ]
     },
     "execution_count": 3,
     "metadata": {},
     "output_type": "execute_result"
    }
   ],
   "source": [
    "str(run_time)"
   ]
  },
  {
   "cell_type": "code",
   "execution_count": 5,
   "metadata": {},
   "outputs": [
    {
     "name": "stderr",
     "output_type": "stream",
     "text": [
      "DEBUG:urllib3.connectionpool:Starting new HTTPS connection (1): www.nseindia.com:443\n",
      "DEBUG:urllib3.connectionpool:https://www.nseindia.com:443 \"GET /api/equity-stockIndices?index=SECURITIES%20IN%20F%26O HTTP/1.1\" 200 21232\n",
      "DEBUG:urllib3.connectionpool:Starting new HTTPS connection (1): www.nseindia.com:443\n",
      "DEBUG:urllib3.connectionpool:https://www.nseindia.com:443 \"GET /api/quote-derivative?symbol=BANKNIFTY HTTP/1.1\" 200 128523\n"
     ]
    },
    {
     "name": "stdout",
     "output_type": "stream",
     "text": [
      "Current Value of BankNIFTY: 22479.95\n"
     ]
    },
    {
     "name": "stderr",
     "output_type": "stream",
     "text": [
      "DEBUG:urllib3.connectionpool:Starting new HTTPS connection (1): www.nseindia.com:443\n",
      "DEBUG:urllib3.connectionpool:https://www.nseindia.com:443 \"GET /api/equity-stockIndices?index=SECURITIES%20IN%20F%26O HTTP/1.1\" 200 21232\n",
      "DEBUG:urllib3.connectionpool:Starting new HTTPS connection (1): www.nseindia.com:443\n",
      "DEBUG:urllib3.connectionpool:https://www.nseindia.com:443 \"GET /api/quote-derivative?symbol=BANKNIFTY HTTP/1.1\" 200 None\n"
     ]
    },
    {
     "name": "stdout",
     "output_type": "stream",
     "text": [
      "Current Value of BankNIFTY: 22479.95\n"
     ]
    },
    {
     "name": "stderr",
     "output_type": "stream",
     "text": [
      "DEBUG:urllib3.connectionpool:Starting new HTTPS connection (1): www.nseindia.com:443\n",
      "DEBUG:urllib3.connectionpool:https://www.nseindia.com:443 \"GET /api/equity-stockIndices?index=SECURITIES%20IN%20F%26O HTTP/1.1\" 200 21232\n",
      "DEBUG:urllib3.connectionpool:Starting new HTTPS connection (1): www.nseindia.com:443\n",
      "DEBUG:urllib3.connectionpool:https://www.nseindia.com:443 \"GET /api/quote-derivative?symbol=BANKNIFTY HTTP/1.1\" 200 127836\n"
     ]
    },
    {
     "name": "stdout",
     "output_type": "stream",
     "text": [
      "Current Value of BankNIFTY: 22479.95\n"
     ]
    },
    {
     "ename": "KeyboardInterrupt",
     "evalue": "",
     "output_type": "error",
     "traceback": [
      "\u001b[1;31m---------------------------------------------------------------------------\u001b[0m",
      "\u001b[1;31mKeyboardInterrupt\u001b[0m                         Traceback (most recent call last)",
      "\u001b[1;32m<ipython-input-5-7f64aac7675e>\u001b[0m in \u001b[0;36m<module>\u001b[1;34m\u001b[0m\n\u001b[0;32m      4\u001b[0m     \u001b[0mbnltp\u001b[0m \u001b[1;33m=\u001b[0m \u001b[0mnse_quote_ltp\u001b[0m\u001b[1;33m(\u001b[0m\u001b[1;34m\"BANKNIFTY\"\u001b[0m\u001b[1;33m)\u001b[0m\u001b[1;33m\u001b[0m\u001b[1;33m\u001b[0m\u001b[0m\n\u001b[0;32m      5\u001b[0m     \u001b[0mprint\u001b[0m\u001b[1;33m(\u001b[0m\u001b[1;34m\"Current Value of BankNIFTY: \"\u001b[0m \u001b[1;33m+\u001b[0m \u001b[0mstr\u001b[0m\u001b[1;33m(\u001b[0m\u001b[0mbnltp\u001b[0m\u001b[1;33m)\u001b[0m\u001b[1;33m)\u001b[0m\u001b[1;33m\u001b[0m\u001b[1;33m\u001b[0m\u001b[0m\n\u001b[1;32m----> 6\u001b[1;33m     \u001b[0mtime\u001b[0m\u001b[1;33m.\u001b[0m\u001b[0msleep\u001b[0m\u001b[1;33m(\u001b[0m\u001b[1;36m10\u001b[0m\u001b[1;33m)\u001b[0m\u001b[1;33m\u001b[0m\u001b[1;33m\u001b[0m\u001b[0m\n\u001b[0m",
      "\u001b[1;31mKeyboardInterrupt\u001b[0m: "
     ]
    }
   ],
   "source": [
    "#Entering the Trade\n",
    "\n",
    "while True: \n",
    "    bnltp = nse_quote_ltp(\"BANKNIFTY\")\n",
    "    print(\"Current Value of BankNIFTY: \" + str(bnltp))\n",
    "    time.sleep(10)"
   ]
  },
  {
   "cell_type": "code",
   "execution_count": 6,
   "metadata": {},
   "outputs": [
    {
     "name": "stderr",
     "output_type": "stream",
     "text": [
      "DEBUG:urllib3.connectionpool:Starting new HTTPS connection (1): www.nseindia.com:443\n",
      "DEBUG:urllib3.connectionpool:https://www.nseindia.com:443 \"GET /api/equity-stockIndices?index=SECURITIES%20IN%20F%26O HTTP/1.1\" 200 21232\n",
      "DEBUG:urllib3.connectionpool:Starting new HTTPS connection (1): www.nseindia.com:443\n",
      "DEBUG:urllib3.connectionpool:https://www.nseindia.com:443 \"GET /api/quote-derivative?symbol=BANKNIFTY HTTP/1.1\" 200 None\n"
     ]
    },
    {
     "name": "stdout",
     "output_type": "stream",
     "text": [
      "Current Value of BankNIFTY: 22479.95\n"
     ]
    },
    {
     "name": "stderr",
     "output_type": "stream",
     "text": [
      "DEBUG:urllib3.connectionpool:Starting new HTTPS connection (1): www.nseindia.com:443\n",
      "DEBUG:urllib3.connectionpool:https://www.nseindia.com:443 \"GET /api/equity-stockIndices?index=SECURITIES%20IN%20F%26O HTTP/1.1\" 200 21232\n",
      "DEBUG:urllib3.connectionpool:Starting new HTTPS connection (1): www.nseindia.com:443\n",
      "DEBUG:urllib3.connectionpool:https://www.nseindia.com:443 \"GET /api/quote-derivative?symbol=BANKNIFTY HTTP/1.1\" 200 127984\n"
     ]
    },
    {
     "name": "stdout",
     "output_type": "stream",
     "text": [
      "Current Value of BankNIFTY: 22479.95\n"
     ]
    },
    {
     "ename": "KeyboardInterrupt",
     "evalue": "",
     "output_type": "error",
     "traceback": [
      "\u001b[1;31m---------------------------------------------------------------------------\u001b[0m",
      "\u001b[1;31mKeyboardInterrupt\u001b[0m                         Traceback (most recent call last)",
      "\u001b[1;32m<ipython-input-6-319d79540bf2>\u001b[0m in \u001b[0;36m<module>\u001b[1;34m\u001b[0m\n\u001b[0;32m     24\u001b[0m         \u001b[1;32mbreak\u001b[0m\u001b[1;33m\u001b[0m\u001b[1;33m\u001b[0m\u001b[0m\n\u001b[0;32m     25\u001b[0m \u001b[1;33m\u001b[0m\u001b[0m\n\u001b[1;32m---> 26\u001b[1;33m     \u001b[0mtime\u001b[0m\u001b[1;33m.\u001b[0m\u001b[0msleep\u001b[0m\u001b[1;33m(\u001b[0m\u001b[1;36m10\u001b[0m\u001b[1;33m)\u001b[0m\u001b[1;33m\u001b[0m\u001b[1;33m\u001b[0m\u001b[0m\n\u001b[0m",
      "\u001b[1;31mKeyboardInterrupt\u001b[0m: "
     ]
    }
   ],
   "source": [
    "#Entering the Trade\n",
    "\n",
    "while True: \n",
    "    bn_ltp = nse_quote_ltp(\"BANKNIFTY\")\n",
    "    print(\"Current Value of BankNIFTY: \" + str(bn_ltp))\n",
    "    \n",
    "    who_triggered = \"NONE\"\n",
    "    \n",
    "    if(bn_ltp>buy_above):\n",
    "        print(\"Buy Order executed at: \" +str(bn_ltp)+\". Entry Time is \"+ str(run_time)+\".\")\n",
    "        who_triggered = \"BUY\"\n",
    "        stop_loss = bn_ltp*(.995)\n",
    "        target = bn_ltp*(1.02)\n",
    "    \n",
    "    if(bn_ltp<sell_below):\n",
    "        print(\"Sell Order executed at: \" +str(bn_ltp)+\". Entry Time is \"+ str(run_time)+\".\")\n",
    "        who_triggered = \"Sell\"\n",
    "        stop_loss = bn_ltp*(1.005)\n",
    "        target = bn_ltp*(.98)\n",
    "    \n",
    "    if(who_triggered != \"NONE\"):\n",
    "        print(\"Stop Loss is: \" + str(stop_loss)+\".\")\n",
    "        print(\"Target is: \" + str(target)+\".\")\n",
    "        break        \n",
    "        \n",
    "    time.sleep(10)"
   ]
  },
  {
   "cell_type": "code",
   "execution_count": 11,
   "metadata": {},
   "outputs": [
    {
     "name": "stderr",
     "output_type": "stream",
     "text": [
      "DEBUG:urllib3.connectionpool:Starting new HTTPS connection (1): www.nseindia.com:443\n",
      "DEBUG:urllib3.connectionpool:https://www.nseindia.com:443 \"GET /api/equity-stockIndices?index=SECURITIES%20IN%20F%26O HTTP/1.1\" 200 21232\n",
      "DEBUG:urllib3.connectionpool:Starting new HTTPS connection (1): www.nseindia.com:443\n",
      "DEBUG:urllib3.connectionpool:https://www.nseindia.com:443 \"GET /api/quote-derivative?symbol=BANKNIFTY HTTP/1.1\" 200 None\n"
     ]
    },
    {
     "name": "stdout",
     "output_type": "stream",
     "text": [
      "Current Value of BankNIFTY: 22479.95\n",
      "Buy Order executed at: 23031. Entry Time is 2020-09-13 23:24:36.272675.\n",
      "Stop Loss is: 22915.845.\n",
      "Target is: 23491.62.\n"
     ]
    }
   ],
   "source": [
    "#Entering the Trade\n",
    "\n",
    "while True: \n",
    "    bn_ltp = nse_quote_ltp(\"BANKNIFTY\")\n",
    "    print(\"Current Value of BankNIFTY: \" + str(bn_ltp))\n",
    "    \n",
    "    who_triggered = \"NONE\"\n",
    "    \n",
    "    bn_ltp = 23031\n",
    "    \n",
    "    if(bn_ltp>buy_above):\n",
    "        print(\"Buy Order executed at: \" +str(bn_ltp)+\". Entry Time is \"+ str(run_time)+\".\")\n",
    "        who_triggered = \"BUY\"\n",
    "        stop_loss = bn_ltp*(.995)\n",
    "        target = bn_ltp*(1.02)\n",
    "    \n",
    "    if(bn_ltp<sell_below):\n",
    "        print(\"Sell Order executed at: \" +str(bn_ltp)+\". Entry Time is \"+ str(run_time)+\".\")\n",
    "        who_triggered = \"Sell\"\n",
    "        stop_loss = bn_ltp*(1.005)\n",
    "        target = bn_ltp*(.98)\n",
    "    \n",
    "    if(who_triggered != \"NONE\"):\n",
    "        entry_price = run_time\n",
    "        entry_price = bn_ltp\n",
    "        print(\"Stop Loss is: \" + str(stop_loss)+\".\")\n",
    "        print(\"Target is: \" + str(target)+\".\")\n",
    "        break        \n",
    "        \n",
    "    time.sleep(10)"
   ]
  },
  {
   "cell_type": "code",
   "execution_count": 12,
   "metadata": {},
   "outputs": [
    {
     "name": "stderr",
     "output_type": "stream",
     "text": [
      "DEBUG:urllib3.connectionpool:Starting new HTTPS connection (1): www.nseindia.com:443\n",
      "DEBUG:urllib3.connectionpool:https://www.nseindia.com:443 \"GET /api/equity-stockIndices?index=SECURITIES%20IN%20F%26O HTTP/1.1\" 200 21232\n",
      "DEBUG:urllib3.connectionpool:Starting new HTTPS connection (1): www.nseindia.com:443\n",
      "DEBUG:urllib3.connectionpool:https://www.nseindia.com:443 \"GET /api/quote-derivative?symbol=BANKNIFTY HTTP/1.1\" 200 126779\n"
     ]
    },
    {
     "name": "stdout",
     "output_type": "stream",
     "text": [
      "Current Value of BankNIFTY: 22479.95\n",
      "Stop Loss hit at: 22479.95. Exit Time is 2020-09-13 23:24:36.272675.\n",
      "Net Loss: 551.0499999999993 points.\n"
     ]
    }
   ],
   "source": [
    "#Managing the Trade\n",
    "\n",
    "while True:\n",
    "    bn_ltp = nse_quote_ltp(\"BANKNIFTY\")\n",
    "    print(\"Current Value of BankNIFTY: \" + str(bn_ltp))\n",
    "    \n",
    "    exit_time = run_time\n",
    "    exit_price = bn_ltp\n",
    "        \n",
    "    if(who_triggered == \"BUY\"):\n",
    "        \n",
    "        if(bn_ltp>target):\n",
    "            print(\"Target hit at: \"+ str(bn_ltp)+\". Exit Time is \"+ str(run_time)+\".\")\n",
    "            print(\"Net Profit: \"+str(abs(entry_price-exit_price))+\" points.\")\n",
    "            break\n",
    "            \n",
    "        if(bn_ltp<stop_loss):\n",
    "            print(\"Stop Loss hit at: \"+ str(bn_ltp)+\". Exit Time is \"+ str(run_time)+\".\")\n",
    "            print(\"Net Loss: \"+str(abs(entry_price-exit_price))+\" points.\")\n",
    "            break\n",
    "    \n",
    "    if(who_triggered == \"SELL\"):\n",
    "        \n",
    "        if(bn_ltp<target):\n",
    "            print(\"Target hit at: \"+ str(bn_ltp)+\". Exit Time is \"+ str(run_time)+\".\")\n",
    "            print(\"Net Profit: \"+str(abs(entry_price-exit_price))+\" points.\")\n",
    "            break\n",
    "            \n",
    "        if(bn_ltp>stop_loss):\n",
    "            print(\"Stop Loss hit at: \"+ str(bn_ltp)+\". Exit Time is \"+ str(run_time)+\".\")\n",
    "            print(\"Net Loss: \"+str(abs(entry_price-exit_price))+\" points.\")\n",
    "            break\n",
    "    "
   ]
  },
  {
   "cell_type": "code",
   "execution_count": null,
   "metadata": {},
   "outputs": [],
   "source": []
  }
 ],
 "metadata": {
  "kernelspec": {
   "display_name": "Python 3",
   "language": "python",
   "name": "python3"
  },
  "language_info": {
   "codemirror_mode": {
    "name": "ipython",
    "version": 3
   },
   "file_extension": ".py",
   "mimetype": "text/x-python",
   "name": "python",
   "nbconvert_exporter": "python",
   "pygments_lexer": "ipython3",
   "version": "3.8.3"
  }
 },
 "nbformat": 4,
 "nbformat_minor": 4
}
