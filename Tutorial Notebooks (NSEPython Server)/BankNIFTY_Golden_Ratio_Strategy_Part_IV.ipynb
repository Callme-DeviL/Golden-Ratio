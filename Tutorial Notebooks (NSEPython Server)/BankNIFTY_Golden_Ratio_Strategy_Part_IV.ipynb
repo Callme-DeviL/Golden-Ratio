{
  "nbformat": 4,
  "nbformat_minor": 0,
  "metadata": {
    "colab": {
      "provenance": [],
      "authorship_tag": "ABX9TyO84B+2H8xh5MlOHJ5uepTk",
      "include_colab_link": true
    },
    "kernelspec": {
      "name": "python3",
      "display_name": "Python 3"
    },
    "language_info": {
      "name": "python"
    }
  },
  "cells": [
    {
      "cell_type": "markdown",
      "metadata": {
        "id": "view-in-github",
        "colab_type": "text"
      },
      "source": [
        "<a href=\"https://colab.research.google.com/github/aeron7/BankNIFTY-Golden-Ratio-Strategy/blob/master/Tutorial%20Notebooks%20(NSEPython%20Server)/BankNIFTY_Golden_Ratio_Strategy_Part_IV.ipynb\" target=\"_parent\"><img src=\"https://colab.research.google.com/assets/colab-badge.svg\" alt=\"Open In Colab\"/></a>"
      ]
    },
    {
      "cell_type": "code",
      "execution_count": null,
      "metadata": {
        "colab": {
          "base_uri": "https://localhost:8080/"
        },
        "id": "4CcJ_m_fb0Wc",
        "outputId": "72c705c3-b3fa-42ec-ed9b-6c2ab11a963f"
      },
      "outputs": [
        {
          "output_type": "stream",
          "name": "stdout",
          "text": [
            "Collecting nsepythonserver\n",
            "  Downloading nsepythonserver-2.3-py3-none-any.whl (24 kB)\n",
            "Requirement already satisfied: requests in /usr/local/lib/python3.10/dist-packages (from nsepythonserver) (2.31.0)\n",
            "Requirement already satisfied: pandas in /usr/local/lib/python3.10/dist-packages (from nsepythonserver) (1.5.3)\n",
            "Requirement already satisfied: scipy in /usr/local/lib/python3.10/dist-packages (from nsepythonserver) (1.10.1)\n",
            "Requirement already satisfied: python-dateutil>=2.8.1 in /usr/local/lib/python3.10/dist-packages (from pandas->nsepythonserver) (2.8.2)\n",
            "Requirement already satisfied: pytz>=2020.1 in /usr/local/lib/python3.10/dist-packages (from pandas->nsepythonserver) (2023.3.post1)\n",
            "Requirement already satisfied: numpy>=1.21.0 in /usr/local/lib/python3.10/dist-packages (from pandas->nsepythonserver) (1.23.5)\n",
            "Requirement already satisfied: charset-normalizer<4,>=2 in /usr/local/lib/python3.10/dist-packages (from requests->nsepythonserver) (3.2.0)\n",
            "Requirement already satisfied: idna<4,>=2.5 in /usr/local/lib/python3.10/dist-packages (from requests->nsepythonserver) (3.4)\n",
            "Requirement already satisfied: urllib3<3,>=1.21.1 in /usr/local/lib/python3.10/dist-packages (from requests->nsepythonserver) (2.0.4)\n",
            "Requirement already satisfied: certifi>=2017.4.17 in /usr/local/lib/python3.10/dist-packages (from requests->nsepythonserver) (2023.7.22)\n",
            "Requirement already satisfied: six>=1.5 in /usr/local/lib/python3.10/dist-packages (from python-dateutil>=2.8.1->pandas->nsepythonserver) (1.16.0)\n",
            "Installing collected packages: nsepythonserver\n",
            "Successfully installed nsepythonserver-2.3\n"
          ]
        }
      ],
      "source": [
        "!pip install nsepythonserver"
      ]
    },
    {
      "cell_type": "code",
      "source": [
        "#https://nbviewer.org/github/aeron7/BankNIFTY-Golden-Ratio-Strategy/blob/master/Tutorial%20Notebooks/BankNIFTY%20Golden%20Ratio%20Strategy%20-%20Part%20IV.ipynb"
      ],
      "metadata": {
        "id": "kcWKJQRnb252"
      },
      "execution_count": null,
      "outputs": []
    },
    {
      "cell_type": "code",
      "source": [
        "from nsepythonserver import *\n",
        "\n",
        "#Getting All the Necessary Variables\n",
        "\n",
        "historical_data = nsefetch('https://www.nseindia.com/api/historical/fo/derivatives?&expiryDate=28-SEP-2023&instrumentType=FUTIDX&symbol=BANKNIFTY')\n",
        "historical_data = pd.DataFrame(historical_data['data'])\n",
        "previous_day_high = historical_data['FH_TRADE_HIGH_PRICE'].iloc[0]\n",
        "previous_day_low = historical_data['FH_TRADE_LOW_PRICE'].iloc[0]\n",
        "\n",
        "banknifty_info=nsefetch(\"https://www.nseindia.com/api/equity-stockIndices?index=NIFTY%20BANK\")\n",
        "range_high = banknifty_info['data'][0]['dayHigh']\n",
        "range_low = banknifty_info['data'][0]['dayLow']\n",
        "opening_range = range_high-range_low\n",
        "\n",
        "golden_number = (float(previous_day_high)-float(previous_day_low)+opening_range)*.618\n",
        "\n",
        "previous_day_close = banknifty_info['data'][0]['previousClose']\n",
        "buy_above = previous_day_close+golden_number\n",
        "sell_below = previous_day_close-golden_number\n",
        "\n",
        "print(buy_above)\n",
        "print(sell_below)"
      ],
      "metadata": {
        "colab": {
          "base_uri": "https://localhost:8080/"
        },
        "id": "CWseuF8DcI1b",
        "outputId": "debd10f0-f120-4910-be1d-45200266609d"
      },
      "execution_count": null,
      "outputs": [
        {
          "output_type": "stream",
          "name": "stdout",
          "text": [
            "45111.1789\n",
            "43707.0211\n"
          ]
        }
      ]
    },
    {
      "cell_type": "code",
      "source": [
        "str(run_time)"
      ],
      "metadata": {
        "colab": {
          "base_uri": "https://localhost:8080/",
          "height": 35
        },
        "id": "IRPlbZYYcMRw",
        "outputId": "d32c52e3-a0d9-4b98-b2ca-3642a13b3eca"
      },
      "execution_count": null,
      "outputs": [
        {
          "output_type": "execute_result",
          "data": {
            "text/plain": [
              "'2023-09-07 20:58:50.380866'"
            ],
            "application/vnd.google.colaboratory.intrinsic+json": {
              "type": "string"
            }
          },
          "metadata": {},
          "execution_count": 6
        }
      ]
    },
    {
      "cell_type": "code",
      "source": [
        "#Entering the Trade\n",
        "\n",
        "while True:\n",
        "    bnltp = nse_quote_ltp(\"BANKNIFTY\")\n",
        "    print(\"Current Value of BankNIFTY: \" + str(bnltp))\n",
        "    time.sleep(10)"
      ],
      "metadata": {
        "colab": {
          "base_uri": "https://localhost:8080/",
          "height": 245
        },
        "id": "wxNk4OfXcTfr",
        "outputId": "08a06782-136c-4629-8021-2a350efa0d8c"
      },
      "execution_count": null,
      "outputs": [
        {
          "output_type": "stream",
          "name": "stdout",
          "text": [
            "Current Value of BankNIFTY: 44878.35\n",
            "Current Value of BankNIFTY: 44878.35\n"
          ]
        },
        {
          "output_type": "error",
          "ename": "KeyboardInterrupt",
          "evalue": "ignored",
          "traceback": [
            "\u001b[0;31m---------------------------------------------------------------------------\u001b[0m",
            "\u001b[0;31mKeyboardInterrupt\u001b[0m                         Traceback (most recent call last)",
            "\u001b[0;32m<ipython-input-7-7f64aac7675e>\u001b[0m in \u001b[0;36m<cell line: 3>\u001b[0;34m()\u001b[0m\n\u001b[1;32m      4\u001b[0m     \u001b[0mbnltp\u001b[0m \u001b[0;34m=\u001b[0m \u001b[0mnse_quote_ltp\u001b[0m\u001b[0;34m(\u001b[0m\u001b[0;34m\"BANKNIFTY\"\u001b[0m\u001b[0;34m)\u001b[0m\u001b[0;34m\u001b[0m\u001b[0;34m\u001b[0m\u001b[0m\n\u001b[1;32m      5\u001b[0m     \u001b[0mprint\u001b[0m\u001b[0;34m(\u001b[0m\u001b[0;34m\"Current Value of BankNIFTY: \"\u001b[0m \u001b[0;34m+\u001b[0m \u001b[0mstr\u001b[0m\u001b[0;34m(\u001b[0m\u001b[0mbnltp\u001b[0m\u001b[0;34m)\u001b[0m\u001b[0;34m)\u001b[0m\u001b[0;34m\u001b[0m\u001b[0;34m\u001b[0m\u001b[0m\n\u001b[0;32m----> 6\u001b[0;31m     \u001b[0mtime\u001b[0m\u001b[0;34m.\u001b[0m\u001b[0msleep\u001b[0m\u001b[0;34m(\u001b[0m\u001b[0;36m10\u001b[0m\u001b[0;34m)\u001b[0m\u001b[0;34m\u001b[0m\u001b[0;34m\u001b[0m\u001b[0m\n\u001b[0m",
            "\u001b[0;31mKeyboardInterrupt\u001b[0m: "
          ]
        }
      ]
    },
    {
      "cell_type": "code",
      "source": [
        "#Entering the Trade\n",
        "\n",
        "while True:\n",
        "    bn_ltp = nse_quote_ltp(\"BANKNIFTY\")\n",
        "    print(\"Current Value of BankNIFTY: \" + str(bn_ltp))\n",
        "\n",
        "    who_triggered = \"NONE\"\n",
        "\n",
        "    if(bn_ltp>buy_above):\n",
        "        print(\"Buy Order executed at: \" +str(bn_ltp)+\". Entry Time is \"+ str(run_time)+\".\")\n",
        "        who_triggered = \"BUY\"\n",
        "        stop_loss = bn_ltp*(.995)\n",
        "        target = bn_ltp*(1.02)\n",
        "\n",
        "    if(bn_ltp<sell_below):\n",
        "        print(\"Sell Order executed at: \" +str(bn_ltp)+\". Entry Time is \"+ str(run_time)+\".\")\n",
        "        who_triggered = \"Sell\"\n",
        "        stop_loss = bn_ltp*(1.005)\n",
        "        target = bn_ltp*(.98)\n",
        "\n",
        "    if(who_triggered != \"NONE\"):\n",
        "        print(\"Stop Loss is: \" + str(stop_loss)+\".\")\n",
        "        print(\"Target is: \" + str(target)+\".\")\n",
        "        break\n",
        "\n",
        "    time.sleep(10)"
      ],
      "metadata": {
        "colab": {
          "base_uri": "https://localhost:8080/",
          "height": 279
        },
        "id": "v62QEyFHcVIp",
        "outputId": "a288caf8-ffa5-4d75-e652-cb538994c3ef"
      },
      "execution_count": null,
      "outputs": [
        {
          "output_type": "stream",
          "name": "stdout",
          "text": [
            "Current Value of BankNIFTY: 44878.35\n",
            "Current Value of BankNIFTY: 44878.35\n",
            "Current Value of BankNIFTY: 44878.35\n",
            "Current Value of BankNIFTY: 44878.35\n"
          ]
        },
        {
          "output_type": "error",
          "ename": "KeyboardInterrupt",
          "evalue": "ignored",
          "traceback": [
            "\u001b[0;31m---------------------------------------------------------------------------\u001b[0m",
            "\u001b[0;31mKeyboardInterrupt\u001b[0m                         Traceback (most recent call last)",
            "\u001b[0;32m<ipython-input-11-319d79540bf2>\u001b[0m in \u001b[0;36m<cell line: 3>\u001b[0;34m()\u001b[0m\n\u001b[1;32m     24\u001b[0m         \u001b[0;32mbreak\u001b[0m\u001b[0;34m\u001b[0m\u001b[0;34m\u001b[0m\u001b[0m\n\u001b[1;32m     25\u001b[0m \u001b[0;34m\u001b[0m\u001b[0m\n\u001b[0;32m---> 26\u001b[0;31m     \u001b[0mtime\u001b[0m\u001b[0;34m.\u001b[0m\u001b[0msleep\u001b[0m\u001b[0;34m(\u001b[0m\u001b[0;36m10\u001b[0m\u001b[0;34m)\u001b[0m\u001b[0;34m\u001b[0m\u001b[0;34m\u001b[0m\u001b[0m\n\u001b[0m",
            "\u001b[0;31mKeyboardInterrupt\u001b[0m: "
          ]
        }
      ]
    },
    {
      "cell_type": "code",
      "source": [
        "#Entering the Trade\n",
        "\n",
        "while True:\n",
        "    bn_ltp = nse_quote_ltp(\"BANKNIFTY\")\n",
        "    print(\"Current Value of BankNIFTY: \" + str(bn_ltp))\n",
        "\n",
        "    who_triggered = \"NONE\"\n",
        "\n",
        "    bn_ltp = 23031\n",
        "\n",
        "    if(bn_ltp>buy_above):\n",
        "        print(\"Buy Order executed at: \" +str(bn_ltp)+\". Entry Time is \"+ str(run_time)+\".\")\n",
        "        who_triggered = \"BUY\"\n",
        "        stop_loss = bn_ltp*(.995)\n",
        "        target = bn_ltp*(1.02)\n",
        "\n",
        "    if(bn_ltp<sell_below):\n",
        "        print(\"Sell Order executed at: \" +str(bn_ltp)+\". Entry Time is \"+ str(run_time)+\".\")\n",
        "        who_triggered = \"SELL\"\n",
        "        stop_loss = bn_ltp*(1.005)\n",
        "        target = bn_ltp*(.98)\n",
        "\n",
        "    if(who_triggered != \"NONE\"):\n",
        "        entry_price = run_time\n",
        "        entry_price = bn_ltp\n",
        "        print(\"Stop Loss is: \" + str(stop_loss)+\".\")\n",
        "        print(\"Target is: \" + str(target)+\".\")\n",
        "        break\n",
        "\n",
        "    time.sleep(10)"
      ],
      "metadata": {
        "colab": {
          "base_uri": "https://localhost:8080/"
        },
        "id": "XP222753cdkR",
        "outputId": "1c7f48f0-e2ec-4929-8573-bfcacaf83304"
      },
      "execution_count": null,
      "outputs": [
        {
          "output_type": "stream",
          "name": "stdout",
          "text": [
            "Current Value of BankNIFTY: 44878.35\n",
            "Sell Order executed at: 23031. Entry Time is 2023-09-07 20:58:50.380866.\n",
            "Stop Loss is: 23146.155.\n",
            "Target is: 22570.38.\n"
          ]
        }
      ]
    },
    {
      "cell_type": "code",
      "source": [
        "#Managing the Trade\n",
        "\n",
        "while True:\n",
        "    bn_ltp = nse_quote_ltp(\"BANKNIFTY\")\n",
        "    print(\"Current Value of BankNIFTY: \" + str(bn_ltp))\n",
        "\n",
        "    exit_time = run_time\n",
        "    exit_price = bn_ltp\n",
        "\n",
        "    if(who_triggered == \"BUY\"):\n",
        "\n",
        "        if(bn_ltp>target):\n",
        "            print(\"Target hit at: \"+ str(bn_ltp)+\". Exit Time is \"+ str(run_time)+\".\")\n",
        "            print(\"Net Profit: \"+str(abs(entry_price-exit_price))+\" points.\")\n",
        "            break\n",
        "\n",
        "        if(bn_ltp<stop_loss):\n",
        "            print(\"Stop Loss hit at: \"+ str(bn_ltp)+\". Exit Time is \"+ str(run_time)+\".\")\n",
        "            print(\"Net Loss: \"+str(abs(entry_price-exit_price))+\" points.\")\n",
        "            break\n",
        "\n",
        "    if(who_triggered == \"SELL\"):\n",
        "\n",
        "        if(bn_ltp<target):\n",
        "            print(\"Target hit at: \"+ str(bn_ltp)+\". Exit Time is \"+ str(run_time)+\".\")\n",
        "            print(\"Net Profit: \"+str(abs(entry_price-exit_price))+\" points.\")\n",
        "            break\n",
        "\n",
        "        if(bn_ltp>stop_loss):\n",
        "            print(\"Stop Loss hit at: \"+ str(bn_ltp)+\". Exit Time is \"+ str(run_time)+\".\")\n",
        "            print(\"Net Loss: \"+str(abs(entry_price-exit_price))+\" points.\")\n",
        "            break"
      ],
      "metadata": {
        "colab": {
          "base_uri": "https://localhost:8080/",
          "height": 703
        },
        "id": "Dwe5rxETcgA7",
        "outputId": "3483041c-ad21-4e92-f375-c88e4574f155"
      },
      "execution_count": null,
      "outputs": [
        {
          "output_type": "stream",
          "name": "stdout",
          "text": [
            "Current Value of BankNIFTY: 44878.35\n",
            "Current Value of BankNIFTY: 44878.35\n",
            "Current Value of BankNIFTY: 44878.35\n",
            "Current Value of BankNIFTY: 44878.35\n",
            "Current Value of BankNIFTY: 44878.35\n",
            "Current Value of BankNIFTY: 44878.35\n",
            "Current Value of BankNIFTY: 44878.35\n",
            "Current Value of BankNIFTY: 44878.35\n",
            "Current Value of BankNIFTY: 44878.35\n",
            "Current Value of BankNIFTY: 44878.35\n",
            "Current Value of BankNIFTY: 44878.35\n",
            "Current Value of BankNIFTY: 44878.35\n",
            "Current Value of BankNIFTY: 44878.35\n",
            "Current Value of BankNIFTY: 44878.35\n",
            "Current Value of BankNIFTY: 44878.35\n",
            "Current Value of BankNIFTY: 44878.35\n",
            "Current Value of BankNIFTY: 44878.35\n",
            "Current Value of BankNIFTY: 44878.35\n"
          ]
        },
        {
          "output_type": "error",
          "ename": "KeyboardInterrupt",
          "evalue": "ignored",
          "traceback": [
            "\u001b[0;31m---------------------------------------------------------------------------\u001b[0m",
            "\u001b[0;31mKeyboardInterrupt\u001b[0m                         Traceback (most recent call last)",
            "\u001b[0;32m<ipython-input-13-07b604e5c5c0>\u001b[0m in \u001b[0;36m<cell line: 3>\u001b[0;34m()\u001b[0m\n\u001b[1;32m      2\u001b[0m \u001b[0;34m\u001b[0m\u001b[0m\n\u001b[1;32m      3\u001b[0m \u001b[0;32mwhile\u001b[0m \u001b[0;32mTrue\u001b[0m\u001b[0;34m:\u001b[0m\u001b[0;34m\u001b[0m\u001b[0;34m\u001b[0m\u001b[0m\n\u001b[0;32m----> 4\u001b[0;31m     \u001b[0mbn_ltp\u001b[0m \u001b[0;34m=\u001b[0m \u001b[0mnse_quote_ltp\u001b[0m\u001b[0;34m(\u001b[0m\u001b[0;34m\"BANKNIFTY\"\u001b[0m\u001b[0;34m)\u001b[0m\u001b[0;34m\u001b[0m\u001b[0;34m\u001b[0m\u001b[0m\n\u001b[0m\u001b[1;32m      5\u001b[0m     \u001b[0mprint\u001b[0m\u001b[0;34m(\u001b[0m\u001b[0;34m\"Current Value of BankNIFTY: \"\u001b[0m \u001b[0;34m+\u001b[0m \u001b[0mstr\u001b[0m\u001b[0;34m(\u001b[0m\u001b[0mbn_ltp\u001b[0m\u001b[0;34m)\u001b[0m\u001b[0;34m)\u001b[0m\u001b[0;34m\u001b[0m\u001b[0;34m\u001b[0m\u001b[0m\n\u001b[1;32m      6\u001b[0m \u001b[0;34m\u001b[0m\u001b[0m\n",
            "\u001b[0;32m/usr/local/lib/python3.10/dist-packages/nsepythonserver/rahu.py\u001b[0m in \u001b[0;36mnse_quote_ltp\u001b[0;34m(symbol, expiryDate, optionType, strikePrice)\u001b[0m\n\u001b[1;32m    210\u001b[0m \u001b[0;34m\u001b[0m\u001b[0m\n\u001b[1;32m    211\u001b[0m \u001b[0;32mdef\u001b[0m \u001b[0mnse_quote_ltp\u001b[0m\u001b[0;34m(\u001b[0m\u001b[0msymbol\u001b[0m\u001b[0;34m,\u001b[0m\u001b[0mexpiryDate\u001b[0m\u001b[0;34m=\u001b[0m\u001b[0;34m\"latest\"\u001b[0m\u001b[0;34m,\u001b[0m\u001b[0moptionType\u001b[0m\u001b[0;34m=\u001b[0m\u001b[0;34m\"-\"\u001b[0m\u001b[0;34m,\u001b[0m\u001b[0mstrikePrice\u001b[0m\u001b[0;34m=\u001b[0m\u001b[0;36m0\u001b[0m\u001b[0;34m)\u001b[0m\u001b[0;34m:\u001b[0m\u001b[0;34m\u001b[0m\u001b[0;34m\u001b[0m\u001b[0m\n\u001b[0;32m--> 212\u001b[0;31m   \u001b[0mpayload\u001b[0m \u001b[0;34m=\u001b[0m \u001b[0mnse_quote\u001b[0m\u001b[0;34m(\u001b[0m\u001b[0msymbol\u001b[0m\u001b[0;34m)\u001b[0m\u001b[0;34m\u001b[0m\u001b[0;34m\u001b[0m\u001b[0m\n\u001b[0m\u001b[1;32m    213\u001b[0m   \u001b[0;31m#https://stackoverflow.com/questions/7961363/removing-duplicates-in-lists\u001b[0m\u001b[0;34m\u001b[0m\u001b[0;34m\u001b[0m\u001b[0m\n\u001b[1;32m    214\u001b[0m   \u001b[0;31m#https://stackoverflow.com/questions/19199984/sort-a-list-in-python\u001b[0m\u001b[0;34m\u001b[0m\u001b[0;34m\u001b[0m\u001b[0m\n",
            "\u001b[0;32m/usr/local/lib/python3.10/dist-packages/nsepythonserver/rahu.py\u001b[0m in \u001b[0;36mnse_quote\u001b[0;34m(symbol, section)\u001b[0m\n\u001b[1;32m    178\u001b[0m \u001b[0;34m\u001b[0m\u001b[0m\n\u001b[1;32m    179\u001b[0m     \u001b[0;32mif\u001b[0m\u001b[0;34m(\u001b[0m\u001b[0msection\u001b[0m\u001b[0;34m==\u001b[0m\u001b[0;34m\"\"\u001b[0m\u001b[0;34m)\u001b[0m\u001b[0;34m:\u001b[0m\u001b[0;34m\u001b[0m\u001b[0;34m\u001b[0m\u001b[0m\n\u001b[0;32m--> 180\u001b[0;31m         \u001b[0;32mif\u001b[0m \u001b[0many\u001b[0m\u001b[0;34m(\u001b[0m\u001b[0mx\u001b[0m \u001b[0;32min\u001b[0m \u001b[0msymbol\u001b[0m \u001b[0;32mfor\u001b[0m \u001b[0mx\u001b[0m \u001b[0;32min\u001b[0m \u001b[0mfnolist\u001b[0m\u001b[0;34m(\u001b[0m\u001b[0;34m)\u001b[0m\u001b[0;34m)\u001b[0m\u001b[0;34m:\u001b[0m\u001b[0;34m\u001b[0m\u001b[0;34m\u001b[0m\u001b[0m\n\u001b[0m\u001b[1;32m    181\u001b[0m             \u001b[0mpayload\u001b[0m \u001b[0;34m=\u001b[0m \u001b[0mnsefetch\u001b[0m\u001b[0;34m(\u001b[0m\u001b[0;34m'https://www.nseindia.com/api/quote-derivative?symbol='\u001b[0m\u001b[0;34m+\u001b[0m\u001b[0msymbol\u001b[0m\u001b[0;34m)\u001b[0m\u001b[0;34m\u001b[0m\u001b[0;34m\u001b[0m\u001b[0m\n\u001b[1;32m    182\u001b[0m         \u001b[0;32melse\u001b[0m\u001b[0;34m:\u001b[0m\u001b[0;34m\u001b[0m\u001b[0;34m\u001b[0m\u001b[0m\n",
            "\u001b[0;32m/usr/local/lib/python3.10/dist-packages/nsepythonserver/rahu.py\u001b[0m in \u001b[0;36mfnolist\u001b[0;34m()\u001b[0m\n\u001b[1;32m     81\u001b[0m     \u001b[0;31m# return [x.strip(' ') for x in df.drop(df.index[3]).iloc[:,1].to_list()]\u001b[0m\u001b[0;34m\u001b[0m\u001b[0;34m\u001b[0m\u001b[0m\n\u001b[1;32m     82\u001b[0m \u001b[0;34m\u001b[0m\u001b[0m\n\u001b[0;32m---> 83\u001b[0;31m     \u001b[0mpositions\u001b[0m \u001b[0;34m=\u001b[0m \u001b[0mnsefetch\u001b[0m\u001b[0;34m(\u001b[0m\u001b[0;34m'https://www.nseindia.com/api/equity-stockIndices?index=SECURITIES%20IN%20F%26O'\u001b[0m\u001b[0;34m)\u001b[0m\u001b[0;34m\u001b[0m\u001b[0;34m\u001b[0m\u001b[0m\n\u001b[0m\u001b[1;32m     84\u001b[0m \u001b[0;34m\u001b[0m\u001b[0m\n\u001b[1;32m     85\u001b[0m     \u001b[0mnselist\u001b[0m\u001b[0;34m=\u001b[0m\u001b[0;34m[\u001b[0m\u001b[0;34m'NIFTY'\u001b[0m\u001b[0;34m,\u001b[0m\u001b[0;34m'NIFTYIT'\u001b[0m\u001b[0;34m,\u001b[0m\u001b[0;34m'BANKNIFTY'\u001b[0m\u001b[0;34m]\u001b[0m\u001b[0;34m\u001b[0m\u001b[0;34m\u001b[0m\u001b[0m\n",
            "\u001b[0;32m/usr/local/lib/python3.10/dist-packages/nsepythonserver/rahu.py\u001b[0m in \u001b[0;36mnsefetch\u001b[0;34m(payload)\u001b[0m\n\u001b[1;32m     22\u001b[0m         \u001b[0mpayload_var\u001b[0m \u001b[0;34m=\u001b[0m \u001b[0;34m'curl -b cookies.txt \"'\u001b[0m \u001b[0;34m+\u001b[0m \u001b[0mencoded_url\u001b[0m \u001b[0;34m+\u001b[0m \u001b[0;34m'\"'\u001b[0m \u001b[0;34m+\u001b[0m \u001b[0mcurl_headers\u001b[0m \u001b[0;34m+\u001b[0m \u001b[0;34m''\u001b[0m\u001b[0;34m\u001b[0m\u001b[0;34m\u001b[0m\u001b[0m\n\u001b[1;32m     23\u001b[0m         \u001b[0;32mtry\u001b[0m\u001b[0;34m:\u001b[0m\u001b[0;34m\u001b[0m\u001b[0;34m\u001b[0m\u001b[0m\n\u001b[0;32m---> 24\u001b[0;31m             \u001b[0moutput\u001b[0m \u001b[0;34m=\u001b[0m \u001b[0mos\u001b[0m\u001b[0;34m.\u001b[0m\u001b[0mpopen\u001b[0m\u001b[0;34m(\u001b[0m\u001b[0mpayload_var\u001b[0m\u001b[0;34m)\u001b[0m\u001b[0;34m.\u001b[0m\u001b[0mread\u001b[0m\u001b[0;34m(\u001b[0m\u001b[0;34m)\u001b[0m\u001b[0;34m\u001b[0m\u001b[0;34m\u001b[0m\u001b[0m\n\u001b[0m\u001b[1;32m     25\u001b[0m             \u001b[0moutput\u001b[0m\u001b[0;34m=\u001b[0m\u001b[0mjson\u001b[0m\u001b[0;34m.\u001b[0m\u001b[0mloads\u001b[0m\u001b[0;34m(\u001b[0m\u001b[0moutput\u001b[0m\u001b[0;34m)\u001b[0m\u001b[0;34m\u001b[0m\u001b[0;34m\u001b[0m\u001b[0m\n\u001b[1;32m     26\u001b[0m         \u001b[0;32mexcept\u001b[0m \u001b[0mValueError\u001b[0m\u001b[0;34m:\u001b[0m  \u001b[0;31m# includes simplejson.decoder.JSONDecodeError:\u001b[0m\u001b[0;34m\u001b[0m\u001b[0;34m\u001b[0m\u001b[0m\n",
            "\u001b[0;31mKeyboardInterrupt\u001b[0m: "
          ]
        }
      ]
    },
    {
      "cell_type": "code",
      "source": [
        "#Managing the Trade\n",
        "\n",
        "while True:\n",
        "    bn_ltp = nse_quote_ltp(\"BANKNIFTY\")\n",
        "    print(\"Current Value of BankNIFTY: \" + str(bn_ltp))\n",
        "\n",
        "    if(who_triggered == \"BUY\"):\n",
        "\n",
        "        if(bn_ltp>target):\n",
        "            print(\"Target hit at: \"+ str(bn_ltp)+\". Exit Time is \"+ str(run_time)+\".\")\n",
        "            print(\"Net Profit: \"+str(abs(entry_price-exit_price))+\" points.\")\n",
        "            break\n",
        "\n",
        "        if(bn_ltp<stop_loss):\n",
        "            print(\"Stop Loss hit at: \"+ str(bn_ltp)+\". Exit Time is \"+ str(run_time)+\".\")\n",
        "            print(\"Net Loss: \"+str(abs(entry_price-exit_price))+\" points.\")\n",
        "            break\n",
        "\n",
        "    if(who_triggered == \"SELL\"):\n",
        "\n",
        "        if(bn_ltp<target):\n",
        "            print(\"Target hit at: \"+ str(bn_ltp)+\". Exit Time is \"+ str(run_time)+\".\")\n",
        "            print(\"Net Profit: \"+str(abs(entry_price-exit_price))+\" points.\")\n",
        "            break\n",
        "\n",
        "        if(bn_ltp>stop_loss):\n",
        "            print(\"Stop Loss hit at: \"+ str(bn_ltp)+\". Exit Time is \"+ str(run_time)+\".\")\n",
        "            print(\"Net Loss: \"+str(abs(entry_price-exit_price))+\" points.\")\n",
        "            break"
      ],
      "metadata": {
        "colab": {
          "base_uri": "https://localhost:8080/"
        },
        "id": "silDYnDEgYeh",
        "outputId": "5e280731-818b-4377-d9fd-9481f4a7caef"
      },
      "execution_count": null,
      "outputs": [
        {
          "output_type": "stream",
          "name": "stdout",
          "text": [
            "Current Value of BankNIFTY: 44878.35\n",
            "Stop Loss hit at: 44878.35. Exit Time is 2023-09-07 20:58:50.380866.\n",
            "Net Loss: 116.15499999999884 points.\n"
          ]
        }
      ]
    },
    {
      "cell_type": "code",
      "source": [],
      "metadata": {
        "id": "ajDVIdLggcpj"
      },
      "execution_count": null,
      "outputs": []
    }
  ]
}