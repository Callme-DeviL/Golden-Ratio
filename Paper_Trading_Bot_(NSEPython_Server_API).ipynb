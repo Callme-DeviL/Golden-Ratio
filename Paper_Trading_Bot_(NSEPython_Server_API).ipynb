{
  "nbformat": 4,
  "nbformat_minor": 0,
  "metadata": {
    "colab": {
      "provenance": [],
      "authorship_tag": "ABX9TyMbMWwQAd7JlYit279I6zW2",
      "include_colab_link": true
    },
    "kernelspec": {
      "name": "python3",
      "display_name": "Python 3"
    },
    "language_info": {
      "name": "python"
    }
  },
  "cells": [
    {
      "cell_type": "markdown",
      "metadata": {
        "id": "view-in-github",
        "colab_type": "text"
      },
      "source": [
        "<a href=\"https://colab.research.google.com/github/aeron7/BankNIFTY-Golden-Ratio-Strategy/blob/master/Paper_Trading_Bot_(NSEPython_Server_API).ipynb\" target=\"_parent\"><img src=\"https://colab.research.google.com/assets/colab-badge.svg\" alt=\"Open In Colab\"/></a>"
      ]
    },
    {
      "cell_type": "code",
      "source": [
        "!pip install nsepythonserver"
      ],
      "metadata": {
        "colab": {
          "base_uri": "https://localhost:8080/"
        },
        "id": "9DEp4QRJXON5",
        "outputId": "1b28f059-68ba-4114-9d43-f20f6906c038"
      },
      "execution_count": 1,
      "outputs": [
        {
          "output_type": "stream",
          "name": "stdout",
          "text": [
            "Collecting nsepythonserver\n",
            "  Downloading nsepythonserver-2.3-py3-none-any.whl (24 kB)\n",
            "Requirement already satisfied: requests in /usr/local/lib/python3.10/dist-packages (from nsepythonserver) (2.31.0)\n",
            "Requirement already satisfied: pandas in /usr/local/lib/python3.10/dist-packages (from nsepythonserver) (1.5.3)\n",
            "Requirement already satisfied: scipy in /usr/local/lib/python3.10/dist-packages (from nsepythonserver) (1.10.1)\n",
            "Requirement already satisfied: python-dateutil>=2.8.1 in /usr/local/lib/python3.10/dist-packages (from pandas->nsepythonserver) (2.8.2)\n",
            "Requirement already satisfied: pytz>=2020.1 in /usr/local/lib/python3.10/dist-packages (from pandas->nsepythonserver) (2023.3.post1)\n",
            "Requirement already satisfied: numpy>=1.21.0 in /usr/local/lib/python3.10/dist-packages (from pandas->nsepythonserver) (1.23.5)\n",
            "Requirement already satisfied: charset-normalizer<4,>=2 in /usr/local/lib/python3.10/dist-packages (from requests->nsepythonserver) (3.2.0)\n",
            "Requirement already satisfied: idna<4,>=2.5 in /usr/local/lib/python3.10/dist-packages (from requests->nsepythonserver) (3.4)\n",
            "Requirement already satisfied: urllib3<3,>=1.21.1 in /usr/local/lib/python3.10/dist-packages (from requests->nsepythonserver) (2.0.4)\n",
            "Requirement already satisfied: certifi>=2017.4.17 in /usr/local/lib/python3.10/dist-packages (from requests->nsepythonserver) (2023.7.22)\n",
            "Requirement already satisfied: six>=1.5 in /usr/local/lib/python3.10/dist-packages (from python-dateutil>=2.8.1->pandas->nsepythonserver) (1.16.0)\n",
            "Installing collected packages: nsepythonserver\n",
            "Successfully installed nsepythonserver-2.3\n"
          ]
        }
      ]
    },
    {
      "cell_type": "code",
      "execution_count": 4,
      "metadata": {
        "colab": {
          "base_uri": "https://localhost:8080/",
          "height": 349
        },
        "id": "IQBCKxC1WG_j",
        "outputId": "e5f4d7ff-fbe3-42fd-a699-34a3c7c08290"
      },
      "outputs": [
        {
          "output_type": "stream",
          "name": "stdout",
          "text": [
            "Buy BankNIFTY Above: 45338.\n",
            "Sell BankNIFTY Below: 43949.\n",
            "Current Value of BankNIFTY: 45053.2\n",
            "Current Value of BankNIFTY: 45053.2\n",
            "Current Value of BankNIFTY: 45053.2\n",
            "Current Value of BankNIFTY: 45053.2\n"
          ]
        },
        {
          "output_type": "error",
          "ename": "KeyboardInterrupt",
          "evalue": "ignored",
          "traceback": [
            "\u001b[0;31m---------------------------------------------------------------------------\u001b[0m",
            "\u001b[0;31mKeyboardInterrupt\u001b[0m                         Traceback (most recent call last)",
            "\u001b[0;32m<ipython-input-4-560e3e27ced4>\u001b[0m in \u001b[0;36m<cell line: 43>\u001b[0;34m()\u001b[0m\n\u001b[1;32m     70\u001b[0m         \u001b[0;32mbreak\u001b[0m\u001b[0;34m\u001b[0m\u001b[0;34m\u001b[0m\u001b[0m\n\u001b[1;32m     71\u001b[0m \u001b[0;34m\u001b[0m\u001b[0m\n\u001b[0;32m---> 72\u001b[0;31m     \u001b[0mtime\u001b[0m\u001b[0;34m.\u001b[0m\u001b[0msleep\u001b[0m\u001b[0;34m(\u001b[0m\u001b[0;36m10\u001b[0m\u001b[0;34m)\u001b[0m\u001b[0;34m\u001b[0m\u001b[0;34m\u001b[0m\u001b[0m\n\u001b[0m\u001b[1;32m     73\u001b[0m \u001b[0;34m\u001b[0m\u001b[0m\n\u001b[1;32m     74\u001b[0m \u001b[0;31m#Managing the Trade\u001b[0m\u001b[0;34m\u001b[0m\u001b[0;34m\u001b[0m\u001b[0m\n",
            "\u001b[0;31mKeyboardInterrupt\u001b[0m: "
          ]
        }
      ],
      "source": [
        "#!/usr/bin/env python\n",
        "# coding: utf-8\n",
        "\n",
        "from nsepythonserver import *\n",
        "\n",
        "#The BankNIFTY Golden Ratio Strategy\n",
        "##Scrip = BANKNIFTY Futures\n",
        "\n",
        "## Golden Number = ((Previous Day High - Previous Day Low) + Opening Range of Today's First 10 minutes))*61.8%\n",
        "\n",
        "### Buy Above = (Previous Day Close + Golden Number)\n",
        "### Sell Below = (Previous Day Close - Goldern Number)\n",
        "\n",
        "#### Stop Loss at 0.5% Target at 2%\n",
        "\n",
        "\n",
        "#Getting All the Necessary Variables\n",
        "\n",
        "banknifty_info=nse_quote_meta(\"BANKNIFTY\",\"latest\",\"Fut\")\n",
        "\n",
        "fetch_url=\"https://www.nseindia.com/api/historical/fo/derivatives?&expiryDate=\"+str(banknifty_info['expiryDate'])+\"&instrumentType=FUTIDX&symbol=BANKNIFTY\"\n",
        "historical_data = nsefetch(fetch_url)\n",
        "historical_data = pd.DataFrame(historical_data['data'])\n",
        "previous_day_high = historical_data['FH_TRADE_HIGH_PRICE'].iloc[0]\n",
        "previous_day_low = historical_data['FH_TRADE_LOW_PRICE'].iloc[0]\n",
        "\n",
        "range_high = banknifty_info['highPrice']\n",
        "range_low = banknifty_info['lowPrice']\n",
        "opening_range = range_high-range_low\n",
        "\n",
        "golden_number = (float(previous_day_high)-float(previous_day_low)+opening_range)*.618\n",
        "\n",
        "previous_day_close = banknifty_info['prevClose']\n",
        "buy_above = int(previous_day_close+golden_number)\n",
        "sell_below = int(previous_day_close-golden_number)\n",
        "\n",
        "print(\"Buy BankNIFTY Above: \"+str(buy_above)+\".\")\n",
        "print(\"Sell BankNIFTY Below: \"+str(sell_below)+\".\")\n",
        "\n",
        "\n",
        "#Entering the Trade\n",
        "\n",
        "while True:\n",
        "\n",
        "    bn_ltp = nse_quote_ltp(\"BANKNIFTY\",\"latest\",\"Fut\")\n",
        "    print(\"Current Value of BankNIFTY: \" + str(bn_ltp))\n",
        "\n",
        "    who_triggered = \"NONE\"\n",
        "\n",
        "    #Amit's Test\n",
        "    ##bn_ltp = 21949\n",
        "\n",
        "    if(bn_ltp>buy_above):\n",
        "        print(\"Buy Order executed at: \" +str(bn_ltp)+\". Entry Time is \"+ str(run_time)+\".\")\n",
        "        who_triggered = \"BUY\"\n",
        "        stop_loss = bn_ltp*(.995)\n",
        "        target = bn_ltp*(1.02)\n",
        "\n",
        "    if(bn_ltp<sell_below):\n",
        "        print(\"Sell Order executed at: \" +str(bn_ltp)+\". Entry Time is \"+ str(run_time)+\".\")\n",
        "        who_triggered = \"SELL\"\n",
        "        stop_loss = bn_ltp*(1.005)\n",
        "        target = bn_ltp*(.98)\n",
        "\n",
        "    if(who_triggered != \"NONE\"):\n",
        "        entry_time = run_time\n",
        "        entry_price = bn_ltp\n",
        "        print(\"Stop Loss is: \" + str(stop_loss)+\".\")\n",
        "        print(\"Target is: \" + str(target)+\".\")\n",
        "        break\n",
        "\n",
        "    time.sleep(10)\n",
        "\n",
        "#Managing the Trade\n",
        "\n",
        "while True:\n",
        "    bn_ltp = nse_quote_ltp(\"BANKNIFTY\",\"latest\",\"Fut\")\n",
        "    print(\"Current Value of BankNIFTY: \" + str(bn_ltp))\n",
        "\n",
        "    exit_time = run_time\n",
        "    exit_price = bn_ltp\n",
        "\n",
        "    if(who_triggered == \"BUY\"):\n",
        "\n",
        "        if(bn_ltp>target):\n",
        "            print(\"Target hit at: \"+ str(bn_ltp)+\". Exit Time is \"+ str(run_time)+\".\")\n",
        "            print(\"Net Profit: \"+str(abs(entry_price-exit_price))+\" points.\")\n",
        "            break\n",
        "\n",
        "        if(bn_ltp<stop_loss):\n",
        "            print(\"Stop Loss hit at: \"+ str(bn_ltp)+\". Exit Time is \"+ str(run_time)+\".\")\n",
        "            print(\"Net Loss: \"+str(abs(entry_price-exit_price))+\" points.\")\n",
        "            break\n",
        "\n",
        "    if(who_triggered == \"SELL\"):\n",
        "\n",
        "        if(bn_ltp<target):\n",
        "            print(\"Target hit at: \"+ str(bn_ltp)+\". Exit Time is \"+ str(run_time)+\".\")\n",
        "            print(\"Net Profit: \"+str(abs(entry_price-exit_price))+\" points.\")\n",
        "            break\n",
        "\n",
        "        if(bn_ltp>stop_loss):\n",
        "            print(\"Stop Loss hit at: \"+ str(bn_ltp)+\". Exit Time is \"+ str(run_time)+\".\")\n",
        "            print(\"Net Loss: \"+str(abs(entry_price-exit_price))+\" points.\")\n",
        "            break\n",
        "\n",
        "        time.sleep(10)\n",
        ""
      ]
    }
  ]
}